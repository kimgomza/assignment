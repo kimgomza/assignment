{
 "cells": [
  {
   "cell_type": "code",
   "execution_count": 35,
   "metadata": {},
   "outputs": [
    {
     "output_type": "stream",
     "name": "stdout",
     "text": "생일 : 11월04일\n성별 : 여자\n나이 : 24살\n"
    }
   ],
   "source": [
    "a=971104\n",
    "b=2151215\n",
    "year=1900+int(str(a)[0:2])\n",
    "age= 2020-year+1\n",
    "\n",
    "print(f'생일 : {str(a)[2:4]}월{str(a)[4:6]}일')\n",
    "\n",
    "if int(str(b)[0])%2==0:\n",
    "    print('성별 : 여자')\n",
    "else:\n",
    "    print('성별 : 남자')\n",
    "\n",
    "print(f'나이 : {age}살')"
   ]
  },
  {
   "cell_type": "code",
   "execution_count": 144,
   "metadata": {},
   "outputs": [
    {
     "output_type": "stream",
     "name": "stdout",
     "text": "[2, 3, 5, 7, 11, 13, 17, 19, 23, 29, 31, 37, 41, 43, 47, 53, 59, 61, 67, 71, 73, 79, 83, 89, 97]\n"
    }
   ],
   "source": [
    "p=[] #빈 리스트\n",
    "for a in range(2,101):\n",
    "    c=0\n",
    "    for b in range(2,101):\n",
    "        if a%b ==0: #나누어 떨어진다\n",
    "            c=c+1\n",
    "    if c == 1:\n",
    "        p.append(a)\n",
    "print(p)\n",
    "\n",
    "\n"
   ]
  },
  {
   "cell_type": "code",
   "execution_count": 15,
   "metadata": {},
   "outputs": [
    {
     "output_type": "stream",
     "name": "stdout",
     "text": "1번 학생은 불합격입니다.\n2번 학생은 불합격입니다.\n3번 학생은 불합격입니다.\n4번 학생은 불합격입니다.\n5번 학생은 불합격입니다.\n"
    }
   ],
   "source": [
    "grades = [60,40,30,50,25] #4번 숙제\n",
    "length = len(grades)\n",
    "average=sum(grades)/length\n",
    "\n",
    "number=0\n",
    "for grade in grades:\n",
    "    number=number+1\n",
    "    if mark>average:\n",
    "        print(\"%d번 학생은 합격입니다\" %number)\n",
    "    else:\n",
    "        print(\"%d번 학생은 불합격입니다.\" %number)"
   ]
  },
  {
   "cell_type": "code",
   "execution_count": 62,
   "metadata": {},
   "outputs": [
    {
     "output_type": "stream",
     "name": "stdout",
     "text": "5 * 1 = 5\n5 * 2 = 10\n5 * 3 = 15\n5 * 4 = 20\n5 * 5 = 25\n5 * 6 = 30\n5 * 7 = 35\n5 * 8 = 40\n5 * 9 = 45\n"
    }
   ],
   "source": [
    "a=5\n",
    "for b in range(1,10):\n",
    "    print(a,'*',b,\"=\",a*b)\n"
   ]
  },
  {
   "cell_type": "code",
   "execution_count": 116,
   "metadata": {},
   "outputs": [
    {
     "output_type": "stream",
     "name": "stdout",
     "text": "(1, 2, 3, 5)\n"
    }
   ],
   "source": [
    "a = (1, 2, 3)\n",
    "b=5,\n",
    "print(a + b)\n"
   ]
  },
  {
   "cell_type": "code",
   "execution_count": 184,
   "metadata": {},
   "outputs": [
    {
     "output_type": "stream",
     "name": "stdout",
     "text": "name의 전화번호는 number입니다.\nname의 전화번호는 number입니다.\nname의 전화번호는 number입니다.\nname의 전화번호는 number입니다.\n"
    }
   ],
   "source": [
    "dict={\"최정호\":\"010=6722\", \"송민선\":\"010-5029\", \"이종훈\":\"010-6335\", \"정재환\":\"0108589\"}#name_number\n",
    "\n",
    "a = input(\"이름을 입력하세요\")\n",
    "for name in dict:\n",
    "    if a in dict:\n",
    "        print(\"%s의 전화번호는 %s입니다.\" %(\"name\", \"number\"))\n",
    "    else:\n",
    "        print(\"%S의 번호를 찾을 수 없습니다.\" %(\"name\"))\n"
   ]
  },
  {
   "cell_type": "code",
   "execution_count": null,
   "metadata": {},
   "outputs": [],
   "source": []
  }
 ],
 "metadata": {
  "language_info": {
   "codemirror_mode": {
    "name": "ipython",
    "version": 3
   },
   "file_extension": ".py",
   "mimetype": "text/x-python",
   "name": "python",
   "nbconvert_exporter": "python",
   "pygments_lexer": "ipython3",
   "version": "3.6.10-final"
  },
  "orig_nbformat": 2,
  "kernelspec": {
   "name": "python361064bitconda49edf8e95dcc4bccb2dba0a33e38a965",
   "display_name": "Python 3.6.10 64-bit (conda)"
  }
 },
 "nbformat": 4,
 "nbformat_minor": 2
}